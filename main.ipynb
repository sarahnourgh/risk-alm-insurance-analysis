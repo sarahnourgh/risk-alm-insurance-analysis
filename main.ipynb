{
 "cells": [
  {
   "cell_type": "markdown",
   "metadata": {},
   "source": [
    "**Importing necessary libraries**"
   ]
  },
  {
   "cell_type": "code",
   "execution_count": 4,
   "metadata": {},
   "outputs": [],
   "source": [
    "import numpy as np\n",
    "import matplotlib.pyplot as plt"
   ]
  },
  {
   "cell_type": "markdown",
   "metadata": {},
   "source": [
    "### Duration Analysis"
   ]
  },
  {
   "cell_type": "code",
   "execution_count": 8,
   "metadata": {},
   "outputs": [
    {
     "name": "stdout",
     "output_type": "stream",
     "text": [
      "Macaulay Duration: 5.271846189128615\n",
      "Modified Duration: 5.020805894408205\n",
      "Key Rate Durations: [5.324564651019901, 5.219127727237329]\n"
     ]
    }
   ],
   "source": [
    "def macaulay_duration(cash_flows, present_values):\n",
    "    \"\"\"\n",
    "    Calculate the Macaulay duration of a series of cash flows.\n",
    "    \n",
    "    Args:\n",
    "    cash_flows (array-like): Array of cash flows.\n",
    "    present_values (array-like): Array of present values corresponding to cash flows.\n",
    "    \n",
    "    Returns:\n",
    "    float: Macaulay duration.\n",
    "    \"\"\"\n",
    "    numerator = np.sum([t * cf for t, cf in enumerate(cash_flows, start=1)])\n",
    "    denominator = np.sum(present_values)\n",
    "    duration = numerator / denominator\n",
    "    return duration\n",
    "\n",
    "def modified_duration(macaulay_duration, yield_to_maturity, coupon_frequency):\n",
    "    \"\"\"\n",
    "    Calculate the modified duration.\n",
    "    \n",
    "    Args:\n",
    "    macaulay_duration (float): Macaulay duration.\n",
    "    yield_to_maturity (float): Yield to maturity.\n",
    "    coupon_frequency (int): Number of coupon payments per year.\n",
    "    \n",
    "    Returns:\n",
    "    float: Modified duration.\n",
    "    \"\"\"\n",
    "    modified_duration = macaulay_duration / (1 + (yield_to_maturity / coupon_frequency))\n",
    "    return modified_duration\n",
    "\n",
    "def key_rate_duration(cash_flows, present_values, yield_changes):\n",
    "    \"\"\"\n",
    "    Calculate the key rate duration for a given set of yield changes.\n",
    "    \n",
    "    Args:\n",
    "    cash_flows (array-like): Array of cash flows.\n",
    "    present_values (array-like): Array of present values corresponding to cash flows.\n",
    "    yield_changes (array-like): Array of yield changes (in decimal form) for each key rate.\n",
    "    \n",
    "    Returns:\n",
    "    array: Array of key rate durations.\n",
    "    \"\"\"\n",
    "    key_rate_durations = []\n",
    "    for yield_change in yield_changes:\n",
    "        new_present_values = [pv / (1 + yield_change) for pv in present_values]\n",
    "        new_macaulay_duration = macaulay_duration(cash_flows, new_present_values)\n",
    "        key_rate_durations.append(new_macaulay_duration)\n",
    "    return key_rate_durations\n",
    "\n",
    "# Example usage:\n",
    "cash_flows = [100, 100, 100, 100, 1000]  # Example cash flows\n",
    "present_values = [cf / (1 + 0.05)**(t+1) for t, cf in enumerate(cash_flows)]  # Calculate present values\n",
    "yield_to_maturity = 0.05  # Example yield to maturity\n",
    "coupon_frequency = 1  # Example coupon frequency\n",
    "yield_changes = [0.01, -0.01]  # Example yield changes for key rates\n",
    "\n",
    "# Calculate Macaulay duration\n",
    "macaulay_dur = macaulay_duration(cash_flows, present_values)\n",
    "print(\"Macaulay Duration:\", macaulay_dur)\n",
    "\n",
    "# Calculate Modified duration\n",
    "mod_dur = modified_duration(macaulay_dur, yield_to_maturity, coupon_frequency)\n",
    "print(\"Modified Duration:\", mod_dur)\n",
    "\n",
    "# Calculate Key rate duration\n",
    "key_rate_dur = key_rate_duration(cash_flows, present_values, yield_changes)\n",
    "print(\"Key Rate Durations:\", key_rate_dur)"
   ]
  }
 ],
 "metadata": {
  "kernelspec": {
   "display_name": "Python 3",
   "language": "python",
   "name": "python3"
  },
  "language_info": {
   "codemirror_mode": {
    "name": "ipython",
    "version": 3
   },
   "file_extension": ".py",
   "mimetype": "text/x-python",
   "name": "python",
   "nbconvert_exporter": "python",
   "pygments_lexer": "ipython3",
   "version": "3.10.8"
  }
 },
 "nbformat": 4,
 "nbformat_minor": 2
}
